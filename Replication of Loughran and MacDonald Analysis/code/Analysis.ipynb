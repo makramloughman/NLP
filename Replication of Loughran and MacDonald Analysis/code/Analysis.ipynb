{
 "cells": [
  {
   "cell_type": "code",
   "execution_count": 2,
   "id": "d77c0aa2",
   "metadata": {},
   "outputs": [],
   "source": [
    "import nltk\n",
    "import numpy as np\n",
    "import pandas as pd\n",
    "import pickle\n",
    "import pprint\n",
    "\n",
    "import re\n",
    "from bs4 import BeautifulSoup\n",
    "#nltk.download('averaged_perceptron_tagger')\n",
    "from nltk.stem import WordNetLemmatizer\n",
    "import matplotlib.pyplot as plt\n",
    "\n",
    "from nltk.corpus import wordnet\n",
    "from nltk.corpus import stopwords\n",
    "from tqdm import tqdm\n",
    "from collections import defaultdict, Counter\n",
    "from sklearn.feature_extraction.text import CountVectorizer\n",
    "from sklearn.feature_extraction.text import TfidfVectorizer"
   ]
  },
  {
   "cell_type": "code",
   "execution_count": 68,
   "id": "56b2a50b",
   "metadata": {},
   "outputs": [],
   "source": [
    "df = pd.read_csv(\"merged_v2.csv\")"
   ]
  },
  {
   "cell_type": "code",
   "execution_count": 69,
   "id": "96195140",
   "metadata": {},
   "outputs": [],
   "source": [
    "df.dropna(subset=['file'],inplace = True)"
   ]
  },
  {
   "cell_type": "code",
   "execution_count": 70,
   "id": "4d2d19f8",
   "metadata": {},
   "outputs": [],
   "source": [
    "df.dropna(subset=['3_day_buy_and_hold_return'],inplace = True)"
   ]
  },
  {
   "cell_type": "code",
   "execution_count": 6,
   "id": "0b0ecc48",
   "metadata": {},
   "outputs": [],
   "source": [
    "with open('H4N-inf.txt') as f:\n",
    "    lines = f.read().splitlines()\n",
    "\n",
    "    wrds_h4 = [i.lower() for i in lines]\n",
    "\n",
    "\n",
    "with open('Fin_Neg.txt') as f:\n",
    "    lines_fin = f.read().splitlines()\n",
    "\n",
    "    wrds_fin = [i.lower() for i in lines_fin]"
   ]
  },
  {
   "cell_type": "code",
   "execution_count": 7,
   "id": "66605241",
   "metadata": {},
   "outputs": [],
   "source": [
    "def get_bag_of_words(sentiment_words, docs):\n",
    "\n",
    "    vec = CountVectorizer(vocabulary=sentiment_words)\n",
    "    vectors = vec.fit_transform(docs)\n",
    "    words_list = vec.get_feature_names()\n",
    "    bag_of_words = np.zeros([len(docs), len(words_list)])\n",
    "    \n",
    "    for i in range(len(docs)):\n",
    "        bag_of_words[i] = vectors[i].toarray()[0]\n",
    "    return bag_of_words.astype(int)\n",
    "\n",
    "def get_tfidf(sentiment_words, docs):\n",
    "    \n",
    "    vec = TfidfVectorizer(vocabulary=sentiment_words)\n",
    "    tfidf = vec.fit_transform(docs)\n",
    "    \n",
    "    return tfidf.toarray()"
   ]
  },
  {
   "cell_type": "code",
   "execution_count": 8,
   "id": "1548011e",
   "metadata": {},
   "outputs": [
    {
     "name": "stderr",
     "output_type": "stream",
     "text": [
      "/Users/akshat/opt/anaconda3/lib/python3.8/site-packages/sklearn/utils/deprecation.py:87: FutureWarning: Function get_feature_names is deprecated; get_feature_names is deprecated in 1.0 and will be removed in 1.2. Please use get_feature_names_out instead.\n",
      "  warnings.warn(msg, category=FutureWarning)\n"
     ]
    }
   ],
   "source": [
    "prop_h4 = get_bag_of_words(wrds_h4,df[\"file\"])\n",
    "tf_idf_weight_h4 = get_tfidf(wrds_h4,df[\"file\"])\n"
   ]
  },
  {
   "cell_type": "code",
   "execution_count": 9,
   "id": "062a2fa1",
   "metadata": {},
   "outputs": [],
   "source": [
    "prop_fin = get_bag_of_words(wrds_fin,df[\"file\"])\n",
    "tf_idf_weight_fin = get_tfidf(wrds_fin,df[\"file\"])"
   ]
  },
  {
   "cell_type": "code",
   "execution_count": 98,
   "id": "e66fb17d",
   "metadata": {},
   "outputs": [],
   "source": [
    "df['len_uni'] = df['file'].apply(lambda x: len(set(x.split())))\n"
   ]
  },
  {
   "cell_type": "code",
   "execution_count": 136,
   "id": "ab97c8d1",
   "metadata": {},
   "outputs": [],
   "source": [
    "df[\"count_h4_IND\"] = np.sum((prop_h4!=0).astype(int),axis=1)/df['len_uni']\n",
    "df[\"count_fin_IND\"] = np.sum((prop_fin!=0).astype(int),axis=1)/df['len_uni']"
   ]
  },
  {
   "cell_type": "code",
   "execution_count": 99,
   "id": "a301ee65",
   "metadata": {},
   "outputs": [],
   "source": [
    "df['len'] = df['file'].apply(lambda x: len(x.split()))"
   ]
  },
  {
   "cell_type": "code",
   "execution_count": 11,
   "id": "f53aa77d",
   "metadata": {},
   "outputs": [],
   "source": [
    "prop_weight_h4 = np.multiply(prop_h4,tf_idf_weight_h4)\n",
    "prop_weight_fin = np.multiply(prop_fin,tf_idf_weight_fin)"
   ]
  },
  {
   "cell_type": "code",
   "execution_count": 112,
   "id": "559ab7f0",
   "metadata": {},
   "outputs": [],
   "source": [
    "df['temp_h4'] = np.sum(tf_idf_weight_h4,axis = 1)\n",
    "df['temp_fin'] = np.sum(tf_idf_weight_fin,axis = 1)\n",
    "df['tfidf_h4_v2'] = (np.sum(prop_weight_h4_v2,axis = 1)/df['temp_h4'])/df['len']\n",
    "df['tfidf_fin_v2'] = np.sum(prop_weight_fin_v2,axis = 1)/df['temp_fin']/df['len']\n",
    "df['tfidf_h4'] = np.sum(prop_weight_h4,axis = 1)/df['len_uni']\n",
    "df['tfidf_fin'] = np.sum(prop_weight_fin,axis = 1)/df['len_uni']"
   ]
  },
  {
   "cell_type": "code",
   "execution_count": 181,
   "id": "953ea708",
   "metadata": {},
   "outputs": [],
   "source": [
    "df['tfidf_h4_final'] = df['temp_h4']/df['len']\n",
    "df['tfidf_fin_final'] = df['temp_fin']/df['len']"
   ]
  },
  {
   "cell_type": "code",
   "execution_count": 3,
   "id": "0b0689ae",
   "metadata": {},
   "outputs": [
    {
     "ename": "NameError",
     "evalue": "name 'df' is not defined",
     "output_type": "error",
     "traceback": [
      "\u001b[0;31m---------------------------------------------------------------------------\u001b[0m",
      "\u001b[0;31mNameError\u001b[0m                                 Traceback (most recent call last)",
      "\u001b[0;32m<ipython-input-3-58f54fa63ebb>\u001b[0m in \u001b[0;36m<module>\u001b[0;34m\u001b[0m\n\u001b[0;32m----> 1\u001b[0;31m df_out = df[['ticker','date','3_day_buy_and_hold_excess_return','3_day_buy_and_hold_excess_log_return','ratio_h4',\\\n\u001b[0m\u001b[1;32m      2\u001b[0m             'ratio_fin','tfidf_h4','tfidf_fin','tfidf_h4_v2','tfidf_fin_v2','count_h4_TA1','count_fin_TA1','count_h4_TA2','count_fin_TA2','count_h4_count','count_fin_count','count_h4_IND','count_fin_IND','tfidf_h4_our','tfidf_fin_our']]\n\u001b[1;32m      3\u001b[0m \u001b[0mdf_out\u001b[0m\u001b[0;34m.\u001b[0m\u001b[0mrename\u001b[0m\u001b[0;34m(\u001b[0m\u001b[0mcolumns\u001b[0m\u001b[0;34m=\u001b[0m\u001b[0;34m{\u001b[0m\u001b[0;34m\"3_day_buy_and_hold_excess_return\"\u001b[0m\u001b[0;34m:\u001b[0m \u001b[0;34m\"return\"\u001b[0m\u001b[0;34m}\u001b[0m\u001b[0;34m,\u001b[0m\u001b[0minplace\u001b[0m\u001b[0;34m=\u001b[0m\u001b[0;32mTrue\u001b[0m\u001b[0;34m)\u001b[0m\u001b[0;34m\u001b[0m\u001b[0;34m\u001b[0m\u001b[0m\n",
      "\u001b[0;31mNameError\u001b[0m: name 'df' is not defined"
     ]
    }
   ],
   "source": [
    "df_out = df[['ticker','date','3_day_buy_and_hold_excess_return','3_day_buy_and_hold_excess_log_return','tfidf_h4_v2','tfidf_fin_v2','count_h4_IND','count_fin_IND','tfidf_h4_final','tfidf_fin_final']]\n",
    "df_out.rename(columns={\"3_day_buy_and_hold_excess_return\": \"return\"},inplace=True)\n"
   ]
  },
  {
   "cell_type": "code",
   "execution_count": 29,
   "id": "e1d5c0bd",
   "metadata": {},
   "outputs": [],
   "source": [
    "x_h4 = wrds_h4\n",
    "y_h4 = np.sum((prop_h4!=0).astype(int),axis=0)\n",
    "df_h4 = pd.DataFrame({'Words':x_h4, 'Count':y_h4})\n",
    "\n",
    "x_fin = wrds_fin\n",
    "y_fin = np.sum((prop_fin!=0).astype(int),axis=0)\n",
    "df_fin = pd.DataFrame({'Words':x_fin, 'Count':y_fin})\n",
    "\n",
    "y_fin_tf_idf = np.sum(prop_weight_fin,axis=0)\n",
    "df_fin_tf_idf = pd.DataFrame({'Words':x_fin, 'Count':y_fin_tf_idf})\n",
    "\n",
    "y_h4_tf_idf = np.sum(prop_weight_h4,axis=0)\n",
    "df_h4_tf_idf = pd.DataFrame({'Words':x_h4, 'Count':y_h4_tf_idf})\n"
   ]
  },
  {
   "cell_type": "code",
   "execution_count": 38,
   "id": "6c33620e",
   "metadata": {},
   "outputs": [
    {
     "data": {
      "text/plain": [
       "604         capital\n",
       "3180           risk\n",
       "2430           loss\n",
       "3340          shell\n",
       "890           costs\n",
       "886            cost\n",
       "2385    liabilities\n",
       "3720            tax\n",
       "3722          taxes\n",
       "1664        expense\n",
       "Name: Words, dtype: object"
      ]
     },
     "execution_count": 38,
     "metadata": {},
     "output_type": "execute_result"
    }
   ],
   "source": [
    "df_h4.sort_values(by=[\"Count\"],ascending=False).head(10)[\"Words\"]"
   ]
  },
  {
   "cell_type": "code",
   "execution_count": 39,
   "id": "39bd13ad",
   "metadata": {},
   "outputs": [
    {
     "data": {
      "text/plain": [
       "1391          loss\n",
       "1392        losses\n",
       "71         adverse\n",
       "1384    litigation\n",
       "685      disclosed\n",
       "1139    impairment\n",
       "227         claims\n",
       "2311    volatility\n",
       "392       critical\n",
       "1533      negative\n",
       "Name: Words, dtype: object"
      ]
     },
     "execution_count": 39,
     "metadata": {},
     "output_type": "execute_result"
    }
   ],
   "source": [
    "df_fin.sort_values(by=[\"Count\"],ascending=False).head(10)[\"Words\"]"
   ]
  },
  {
   "cell_type": "code",
   "execution_count": 211,
   "id": "086aa1b0",
   "metadata": {
    "scrolled": true
   },
   "outputs": [
    {
     "data": {
      "text/plain": [
       "<matplotlib.legend.Legend at 0x7fe1fdea9160>"
      ]
     },
     "execution_count": 211,
     "metadata": {},
     "output_type": "execute_result"
    },
    {
     "data": {
      "image/png": "[encoded data removed]",
      "text/plain": [
       "<Figure size 432x288 with 1 Axes>"
      ]
     },
     "metadata": {
      "needs_background": "light"
     },
     "output_type": "display_data"
    }
   ],
   "source": [
    "columns = ['count_h4_IND','count_fin_IND']\n",
    "Quintile = ['low', '2', '3', '4','High']\n",
    "for i in range(len(columns)):\n",
    "#col = 'ratio_h4'\n",
    "    col = columns[i]\n",
    "    q = df_out.quantile([0.00, 0.2, 0.40, 0.6,0.8, 1.00])\n",
    "\n",
    "    q1 = ((df_out[col]>=q[col][0.00]) & (df_out[col]<q[col][0.20]))\n",
    "    q2 = ((df_out[col]>=q[col][0.20]) & (df_out[col]<q[col][0.40]))\n",
    "    q3 = ((df_out[col]>=q[col][0.40]) & (df_out[col]<q[col][0.60]))\n",
    "    q4 = ((df_out[col]>=q[col][0.60]) & (df_out[col]<q[col][0.80]))\n",
    "    q5 = ((df_out[col]>=q[col][0.80]) & (df_out[col]<=q[col][1.00]))\n",
    "\n",
    "\n",
    "    Median_Return[i] = [df_out[['return']][q1].median()[0]*100, df_out[['return']][q2].median()[0]*100, \\\n",
    "       df_out[['return']][q3].median()[0]*100, df_out[['return']][q4].median()[0]*100,df_out[['return']][q5].median()[0]*100]\n",
    "  \n",
    "    \n",
    "    \n",
    "plt.plot(Quintile,Median_Return[0],color='green', marker='o', linestyle='dashed',linewidth=2, markersize=8,label =\"H4N-Inf\")\n",
    "plt.plot(Quintile,Median_Return[1],color='red', marker='o',linestyle='dashed',linewidth=2, markersize=8,label =\"Fin-Neg\")\n",
    "plt.title('Median Return for Quintiles')\n",
    "plt.xlabel('Quintile')\n",
    "plt.ylabel('Median Filing Period Excess Return')\n",
    "plt.legend()"
   ]
  },
  {
   "cell_type": "code",
   "execution_count": 213,
   "id": "c64a0e92",
   "metadata": {},
   "outputs": [
    {
     "data": {
      "text/plain": [
       "(2021, Q1)    9.0%\n",
       "(2020, Q1)    8.0%\n",
       "(2019, Q1)    7.6%\n",
       "(2018, Q1)    7.1%\n",
       "(2017, Q1)    6.8%\n",
       "(2016, Q1)    6.2%\n",
       "(2020, Q2)    4.8%\n",
       "(2020, Q3)    4.1%\n",
       "(2020, Q4)    3.8%\n",
       "(2021, Q4)    3.2%\n",
       "(2019, Q4)    3.1%\n",
       "(2021, Q2)    3.0%\n",
       "(2019, Q3)    3.0%\n",
       "(2019, Q2)    3.0%\n",
       "(2018, Q4)    2.9%\n",
       "(2021, Q3)    2.9%\n",
       "(2016, Q2)    2.8%\n",
       "(2017, Q4)    2.7%\n",
       "(2016, Q3)    2.7%\n",
       "(2016, Q4)    2.7%\n",
       "(2017, Q3)    2.7%\n",
       "(2017, Q2)    2.6%\n",
       "(2018, Q2)    2.6%\n",
       "(2018, Q3)    2.5%\n",
       "Name: datadate, dtype: object"
      ]
     },
     "execution_count": 213,
     "metadata": {},
     "output_type": "execute_result"
    }
   ],
   "source": [
    "new_date = df[q5]['datadate'].apply(lambda x: (pd.to_datetime(x).year, \"Q\"+str(pd.to_datetime(x).quarter)))\n",
    "new_date.value_counts(normalize=True).mul(100).round(1).astype(str) + '%'"
   ]
  },
  {
   "cell_type": "code",
   "execution_count": 185,
   "id": "cbb064b4",
   "metadata": {},
   "outputs": [
    {
     "data": {
      "text/plain": [
       "<matplotlib.legend.Legend at 0x7fe259da2100>"
      ]
     },
     "execution_count": 185,
     "metadata": {},
     "output_type": "execute_result"
    },
    {
     "data": {
      "image/png": "[encoded data removed]",
      "text/plain": [
       "<Figure size 432x288 with 1 Axes>"
      ]
     },
     "metadata": {
      "needs_background": "light"
     },
     "output_type": "display_data"
    }
   ],
   "source": [
    "columns = ['tfidf_h4_final','tfidf_fin_final']\n",
    "Quintile = ['low', '2', '3', '4','High']\n",
    "for i in range(len(columns)):\n",
    "#col = 'ratio_h4'\n",
    "    col = columns[i]\n",
    "    q = df_out.quantile([0.00, 0.2, 0.40, 0.6,0.8, 1.00])\n",
    "\n",
    "    q1 = ((df_out[col]>=q[col][0.00]) & (df_out[col]<q[col][0.20]))\n",
    "    q2 = ((df_out[col]>=q[col][0.20]) & (df_out[col]<q[col][0.40]))\n",
    "    q3 = ((df_out[col]>=q[col][0.40]) & (df_out[col]<q[col][0.60]))\n",
    "    q4 = ((df_out[col]>=q[col][0.60]) & (df_out[col]<q[col][0.80]))\n",
    "    q5 = ((df_out[col]>=q[col][0.80]) & (df_out[col]<=q[col][1.00]))\n",
    "\n",
    "\n",
    "    Median_Return[i] = [df_out[['return']][q1].median()[0]*100, df_out[['return']][q2].median()[0]*100, \\\n",
    "       df_out[['return']][q3].median()[0]*100, df_out[['return']][q4].median()[0]*100,df_out[['return']][q5].median()[0]*100]\n",
    "  \n",
    "    \n",
    "    \n",
    "plt.plot(Quintile,Median_Return[0],color='green', marker='o', linestyle='dashed',linewidth=2, markersize=8,label =\"H4N-Inf\")\n",
    "plt.plot(Quintile,Median_Return[1],color='red', marker='o',linestyle='dashed',linewidth=2, markersize=8,label =\"Fin-Neg\")\n",
    "plt.title('Median Return for Quintiles with TF-IDF')\n",
    "plt.xlabel('Quintile')\n",
    "plt.ylabel('Median Filing Period Excess Return')\n",
    "plt.legend()"
   ]
  },
  {
   "cell_type": "code",
   "execution_count": 1,
   "id": "fc5d8871",
   "metadata": {},
   "outputs": [
    {
     "ename": "NameError",
     "evalue": "name 'df_out' is not defined",
     "output_type": "error",
     "traceback": [
      "\u001b[0;31m---------------------------------------------------------------------------\u001b[0m",
      "\u001b[0;31mNameError\u001b[0m                                 Traceback (most recent call last)",
      "\u001b[0;32m<ipython-input-1-6ec9c0acf321>\u001b[0m in \u001b[0;36m<module>\u001b[0;34m\u001b[0m\n\u001b[1;32m      4\u001b[0m \u001b[0;31m#col = 'ratio_h4'\u001b[0m\u001b[0;34m\u001b[0m\u001b[0;34m\u001b[0m\u001b[0;34m\u001b[0m\u001b[0m\n\u001b[1;32m      5\u001b[0m     \u001b[0mcol\u001b[0m \u001b[0;34m=\u001b[0m \u001b[0mcolumns\u001b[0m\u001b[0;34m[\u001b[0m\u001b[0mi\u001b[0m\u001b[0;34m]\u001b[0m\u001b[0;34m\u001b[0m\u001b[0;34m\u001b[0m\u001b[0m\n\u001b[0;32m----> 6\u001b[0;31m     \u001b[0mq\u001b[0m \u001b[0;34m=\u001b[0m \u001b[0mdf_out\u001b[0m\u001b[0;34m.\u001b[0m\u001b[0mquantile\u001b[0m\u001b[0;34m(\u001b[0m\u001b[0;34m[\u001b[0m\u001b[0;36m0.00\u001b[0m\u001b[0;34m,\u001b[0m \u001b[0;36m0.2\u001b[0m\u001b[0;34m,\u001b[0m \u001b[0;36m0.40\u001b[0m\u001b[0;34m,\u001b[0m \u001b[0;36m0.6\u001b[0m\u001b[0;34m,\u001b[0m\u001b[0;36m0.8\u001b[0m\u001b[0;34m,\u001b[0m \u001b[0;36m1.00\u001b[0m\u001b[0;34m]\u001b[0m\u001b[0;34m)\u001b[0m\u001b[0;34m\u001b[0m\u001b[0;34m\u001b[0m\u001b[0m\n\u001b[0m\u001b[1;32m      7\u001b[0m \u001b[0;34m\u001b[0m\u001b[0m\n\u001b[1;32m      8\u001b[0m     \u001b[0mq1\u001b[0m \u001b[0;34m=\u001b[0m \u001b[0;34m(\u001b[0m\u001b[0;34m(\u001b[0m\u001b[0mdf_out\u001b[0m\u001b[0;34m[\u001b[0m\u001b[0mcol\u001b[0m\u001b[0;34m]\u001b[0m\u001b[0;34m>=\u001b[0m\u001b[0mq\u001b[0m\u001b[0;34m[\u001b[0m\u001b[0mcol\u001b[0m\u001b[0;34m]\u001b[0m\u001b[0;34m[\u001b[0m\u001b[0;36m0.00\u001b[0m\u001b[0;34m]\u001b[0m\u001b[0;34m)\u001b[0m \u001b[0;34m&\u001b[0m \u001b[0;34m(\u001b[0m\u001b[0mdf_out\u001b[0m\u001b[0;34m[\u001b[0m\u001b[0mcol\u001b[0m\u001b[0;34m]\u001b[0m\u001b[0;34m<\u001b[0m\u001b[0mq\u001b[0m\u001b[0;34m[\u001b[0m\u001b[0mcol\u001b[0m\u001b[0;34m]\u001b[0m\u001b[0;34m[\u001b[0m\u001b[0;36m0.20\u001b[0m\u001b[0;34m]\u001b[0m\u001b[0;34m)\u001b[0m\u001b[0;34m)\u001b[0m\u001b[0;34m\u001b[0m\u001b[0;34m\u001b[0m\u001b[0m\n",
      "\u001b[0;31mNameError\u001b[0m: name 'df_out' is not defined"
     ]
    }
   ],
   "source": [
    "columns = ['tfidf_h4_v2','tfidf_fin_v2']\n",
    "Quintile = ['low', '2', '3', '4','High']\n",
    "for i in range(len(columns)):\n",
    "#col = 'ratio_h4'\n",
    "    col = columns[i]\n",
    "    q = df_out.quantile([0.00, 0.2, 0.40, 0.6,0.8, 1.00])\n",
    "\n",
    "    q1 = ((df_out[col]>=q[col][0.00]) & (df_out[col]<q[col][0.20]))\n",
    "    q2 = ((df_out[col]>=q[col][0.20]) & (df_out[col]<q[col][0.40]))\n",
    "    q3 = ((df_out[col]>=q[col][0.40]) & (df_out[col]<q[col][0.60]))\n",
    "    q4 = ((df_out[col]>=q[col][0.60]) & (df_out[col]<q[col][0.80]))\n",
    "    q5 = ((df_out[col]>=q[col][0.80]) & (df_out[col]<=q[col][1.00]))\n",
    "\n",
    "\n",
    "    Median_Return[i] = [df_out[['return']][q1].median()[0]*100, df_out[['return']][q2].median()[0]*100, \\\n",
    "       df_out[['return']][q3].median()[0]*100, df_out[['return']][q4].median()[0]*100,df_out[['return']][q5].median()[0]*100]\n",
    "  \n",
    "    \n",
    "    \n",
    "plt.plot(Quintile,Median_Return[0],color='green', marker='o', linestyle='dashed',linewidth=2, markersize=8,label =\"H4N-Inf\")\n",
    "plt.plot(Quintile,Median_Return[1],color='red', marker='o',linestyle='dashed',linewidth=2, markersize=8,label =\"Fin-Neg\")\n",
    "plt.title('Median Return for Quintiles with TF-IDF')\n",
    "plt.xlabel('Quintile')\n",
    "plt.ylabel('Median Filing Period Excess Return')\n",
    "plt.legend()"
   ]
  },
  {
   "cell_type": "code",
   "execution_count": 193,
   "id": "e12999df",
   "metadata": {},
   "outputs": [],
   "source": [
    "df2 = df[df['type'] == '10-Q']"
   ]
  },
  {
   "cell_type": "code",
   "execution_count": null,
   "id": "35b7885a",
   "metadata": {},
   "outputs": [],
   "source": [
    "new_date = df2[q5]['datadate'].apply(lambda x: (pd.to_datetime(x).year, \"Q\"+str(pd.to_datetime(x).quarter)))\n",
    "new_date.value_counts(normalize=True).mul(100).round(1).astype(str) + '%'"
   ]
  },
  {
   "cell_type": "code",
   "execution_count": null,
   "id": "c4a63e97",
   "metadata": {},
   "outputs": [],
   "source": []
  }
 ],
 "metadata": {
  "kernelspec": {
   "display_name": "Python 3",
   "language": "python",
   "name": "python3"
  },
  "language_info": {
   "codemirror_mode": {
    "name": "ipython",
    "version": 3
   },
   "file_extension": ".py",
   "mimetype": "text/x-python",
   "name": "python",
   "nbconvert_exporter": "python",
   "pygments_lexer": "ipython3",
   "version": "3.8.8"
  }
 },
 "nbformat": 4,
 "nbformat_minor": 5
}
