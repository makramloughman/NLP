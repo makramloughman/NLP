{
 "cells": [
  {
   "cell_type": "code",
   "execution_count": 224,
   "id": "d77c0aa2",
   "metadata": {},
   "outputs": [],
   "source": [
    "import nltk\n",
    "import numpy as np\n",
    "import pandas as pd\n",
    "import pickle\n",
    "import pprint\n",
    "\n",
    "import re\n",
    "from bs4 import BeautifulSoup\n",
    "#nltk.download('averaged_perceptron_tagger')\n",
    "from nltk.stem import WordNetLemmatizer\n",
    "import matplotlib.pyplot as plt\n",
    "\n",
    "from nltk.corpus import wordnet\n",
    "from nltk.corpus import stopwords\n",
    "from tqdm import tqdm\n",
    "from collections import defaultdict, Counter\n",
    "from sklearn.feature_extraction.text import CountVectorizer\n",
    "from sklearn.feature_extraction.text import TfidfVectorizer"
   ]
  },
  {
   "cell_type": "code",
   "execution_count": 122,
   "id": "56b2a50b",
   "metadata": {},
   "outputs": [],
   "source": [
    "df = pd.read_csv(\"merged.csv\")"
   ]
  },
  {
   "cell_type": "code",
   "execution_count": 124,
   "id": "96195140",
   "metadata": {},
   "outputs": [],
   "source": [
    "df.dropna(subset=['file'],inplace = True)"
   ]
  },
  {
   "cell_type": "code",
   "execution_count": 29,
   "id": "5a9f6fee",
   "metadata": {},
   "outputs": [],
   "source": [
    "def pos_tagger(nltk_tag):\n",
    "    if nltk_tag.startswith('J'):\n",
    "        return wordnet.ADJ\n",
    "    elif nltk_tag.startswith('V'):\n",
    "        return wordnet.VERB\n",
    "    elif nltk_tag.startswith('N'):\n",
    "        return wordnet.NOUN\n",
    "    elif nltk_tag.startswith('R'):\n",
    "        return wordnet.ADV\n",
    "    else:         \n",
    "        return None\n",
    "\n",
    "def lemmatize_words(words):\n",
    "\n",
    "    lemmatized_words = [WordNetLemmatizer().lemmatize(word, 'v') for word in words]\n",
    "    \n",
    "    return lemmatized_words\n",
    "\n",
    "\n",
    "def lemmatize_words_v2(sentence):\n",
    "    \n",
    "    lemmatizer = WordNetLemmatizer() \n",
    "    pos_tagged = nltk.pos_tag(nltk.word_tokenize(sentence)) \n",
    "    wordnet_tagged = list(map(lambda x: (x[0], pos_tagger(x[1])), pos_tagged))\n",
    "\n",
    "\n",
    "    lemmatized_sentence = []\n",
    "    for word, tag in wordnet_tagged:\n",
    "        if tag is None:\n",
    "                # if there is no available tag, append the token as is\n",
    "            lemmatized_sentence.append(word)\n",
    "        else:       \n",
    "                # else use the tag to lemmatize the token\n",
    "            lemmatized_sentence.append(lemmatizer.lemmatize(word, tag))\n",
    "                \n",
    "    lemmatized_sentence = \" \".join(lemmatized_sentence)\n",
    "    return lemmatized_sentence\n",
    "\n",
    "\n",
    "word_pattern = re.compile('\\w+')"
   ]
  },
  {
   "cell_type": "code",
   "execution_count": 130,
   "id": "5fdf81e6",
   "metadata": {},
   "outputs": [],
   "source": [
    "#df2[\"final\"] = df2['file'].apply(lambda x:lemmatize_words_v2(x))"
   ]
  },
  {
   "cell_type": "code",
   "execution_count": 126,
   "id": "0b0ecc48",
   "metadata": {},
   "outputs": [],
   "source": [
    "with open('H4N-inf.txt') as f:\n",
    "    lines = f.read().splitlines()\n",
    "\n",
    "    wrds_h4 = [i.lower() for i in lines]\n",
    "\n",
    "\n",
    "with open('Fin_Neg.txt') as f:\n",
    "    lines_fin = f.read().splitlines()\n",
    "\n",
    "    wrds_fin = [i.lower() for i in lines_fin]"
   ]
  },
  {
   "cell_type": "code",
   "execution_count": 110,
   "id": "66605241",
   "metadata": {},
   "outputs": [],
   "source": [
    "def get_bag_of_words(sentiment_words, docs):\n",
    "\n",
    "    vec = CountVectorizer(vocabulary=sentiment_words)\n",
    "    vectors = vec.fit_transform(docs)\n",
    "    words_list = vec.get_feature_names()\n",
    "    bag_of_words = np.zeros([len(docs), len(words_list)])\n",
    "    \n",
    "    for i in range(len(docs)):\n",
    "        bag_of_words[i] = vectors[i].toarray()[0]\n",
    "    return bag_of_words.astype(int)\n",
    "\n",
    "def get_tfidf(sentiment_words, docs):\n",
    "    \n",
    "    vec = TfidfVectorizer(vocabulary=sentiment_words)\n",
    "    tfidf = vec.fit_transform(docs)\n",
    "    \n",
    "    return tfidf.toarray()"
   ]
  },
  {
   "cell_type": "code",
   "execution_count": 128,
   "id": "a301ee65",
   "metadata": {},
   "outputs": [],
   "source": [
    "df[\"count_h4\"] = np.sum(get_bag_of_words(wrds_h4,df[\"file\"]),axis = 1)"
   ]
  },
  {
   "cell_type": "code",
   "execution_count": 132,
   "id": "f53aa77d",
   "metadata": {},
   "outputs": [],
   "source": [
    "df[\"count_fin\"] = np.sum(get_bag_of_words(wrds_fin,df[\"file\"]),axis = 1)"
   ]
  },
  {
   "cell_type": "code",
   "execution_count": 133,
   "id": "559ab7f0",
   "metadata": {},
   "outputs": [],
   "source": [
    "df['len'] = df['file'].apply(lambda x: len(x))"
   ]
  },
  {
   "cell_type": "code",
   "execution_count": 136,
   "id": "fbe9a800",
   "metadata": {},
   "outputs": [],
   "source": [
    "df['ratio_h4'] = df['count_h4']/df['len']\n",
    "df['ratio_fin'] = df['count_fin']/df['len']"
   ]
  },
  {
   "cell_type": "code",
   "execution_count": 139,
   "id": "9452a3af",
   "metadata": {},
   "outputs": [],
   "source": [
    "df['tfidf_h4'] = np.sum(get_tfidf(wrds_h4,df[\"file\"]),axis = 1)"
   ]
  },
  {
   "cell_type": "code",
   "execution_count": 140,
   "id": "e9446b85",
   "metadata": {},
   "outputs": [],
   "source": [
    "df['tfidf_neg'] = np.sum(get_tfidf(wrds_fin,df[\"file\"]),axis = 1)"
   ]
  },
  {
   "cell_type": "code",
   "execution_count": 189,
   "id": "0b0689ae",
   "metadata": {},
   "outputs": [
    {
     "name": "stderr",
     "output_type": "stream",
     "text": [
      "/Users/akshat/opt/anaconda3/lib/python3.8/site-packages/pandas/core/frame.py:4441: SettingWithCopyWarning: \n",
      "A value is trying to be set on a copy of a slice from a DataFrame\n",
      "\n",
      "See the caveats in the documentation: https://pandas.pydata.org/pandas-docs/stable/user_guide/indexing.html#returning-a-view-versus-a-copy\n",
      "  return super().rename(\n"
     ]
    }
   ],
   "source": [
    "df_out = df[['ticker','date','3_day_buy_and_hold_excess_return','3_day_buy_and_hold_excess_log_return','ratio_h4',\\\n",
    "            'ratio_fin','tfidf_h4','tfidf_neg']]\n",
    "df_out.rename(columns={\"3_day_buy_and_hold_excess_return\": \"return\"},inplace=True)\n"
   ]
  },
  {
   "cell_type": "code",
   "execution_count": 219,
   "id": "d2ac6101",
   "metadata": {},
   "outputs": [
    {
     "data": {
      "text/plain": [
       "<matplotlib.legend.Legend at 0x7f9cf509c2b0>"
      ]
     },
     "execution_count": 219,
     "metadata": {},
     "output_type": "execute_result"
    },
    {
     "data": {
      "image/png": "[encoded data removed]",
      "text/plain": [
       "<Figure size 432x288 with 1 Axes>"
      ]
     },
     "metadata": {
      "needs_background": "light"
     },
     "output_type": "display_data"
    }
   ],
   "source": [
    "columns = ['ratio_h4','ratio_fin','tfidf_h4','tfidf_neg']\n",
    "Quintile = ['low', '2', '3', '4','High']\n",
    "for i in range(len(columns)):\n",
    "#col = 'ratio_h4'\n",
    "    col = columns[i]\n",
    "    q = df_out.quantile([0.00, 0.2, 0.40, 0.6,0.8, 1.00])\n",
    "\n",
    "    q1 = ((df_out[col]>=q[col][0.00]) & (df_out[col]<q[col][0.20]))\n",
    "    q2 = ((df_out[col]>=q[col][0.20]) & (df_out[col]<q[col][0.40]))\n",
    "    q3 = ((df_out[col]>=q[col][0.40]) & (df_out[col]<q[col][0.60]))\n",
    "    q4 = ((df_out[col]>=q[col][0.60]) & (df_out[col]<q[col][0.80]))\n",
    "    q5 = ((df_out[col]>=q[col][0.80]) & (df_out[col]<=q[col][1.00]))\n",
    "\n",
    "\n",
    "    Median_Return[i] = [df_out[['return']][q1].median()[0]*100, df_out[['return']][q2].median()[0]*100, \\\n",
    "       df_out[['return']][q3].median()[0]*100, df_out[['return']][q4].median()[0]*100,df_out[['return']][q5].median()[0]*100]\n",
    "  \n",
    "    \n",
    "    \n",
    "plt.plot(Quintile,Median_Return[0],color='green', marker='o', linestyle='dashed',linewidth=2, markersize=8,label =\"H4N-Inf\")\n",
    "plt.plot(Quintile,Median_Return[1],color='blue', marker='o',linestyle='dashed',linewidth=2, markersize=8,label =\"Fin-Neg\")\n",
    "plt.plot(Quintile,Median_Return[2],color='red', marker='o', linestyle='dashed',linewidth=2, markersize=8,label =\"TFIDF :H4N-Inf\")\n",
    "plt.plot(Quintile,Median_Return[3],color='black', marker='o',linestyle='dashed',linewidth=2, markersize=8,label =\"TFIDF: Fin-Neg\")\n",
    "plt.title('Median Return for Quintiles')\n",
    "plt.xlabel('Quintile')\n",
    "plt.ylabel('Median Filing Period Excess Return')\n",
    "plt.legend()\n"
   ]
  },
  {
   "cell_type": "code",
   "execution_count": 204,
   "id": "b3095cc1",
   "metadata": {},
   "outputs": [
    {
     "data": {
      "text/plain": [
       "[<matplotlib.lines.Line2D at 0x7f9ab64f8ca0>]"
      ]
     },
     "execution_count": 204,
     "metadata": {},
     "output_type": "execute_result"
    },
    {
     "data": {
      "image/png": "[encoded data removed]",
      "text/plain": [
       "<Figure size 432x288 with 1 Axes>"
      ]
     },
     "metadata": {
      "needs_background": "light"
     },
     "output_type": "display_data"
    }
   ],
   "source": [
    "col = 'ratio_fin'\n",
    "q = df_out.quantile([0.00, 0.2, 0.40, 0.6,0.8, 1.00])\n",
    "\n",
    "q1 = ((df_out[col]>=q[col][0.00]) & (df_out[col]<q[col][0.20]))\n",
    "q2 = ((df_out[col]>=q[col][0.20]) & (df_out[col]<q[col][0.40]))\n",
    "q3 = ((df_out[col]>=q[col][0.40]) & (df_out[col]<q[col][0.60]))\n",
    "q4 = ((df_out[col]>=q[col][0.60]) & (df_out[col]<q[col][0.80]))\n",
    "q5 = ((df_out[col]>=q[col][0.80]) & (df_out[col]<=q[col][1.00]))\n",
    "\n",
    "Quintile = ['low', '2', '3', '4','High']\n",
    "\n",
    "Median_Return = [df_out[['return']][q1].median()[0], df_out[['return']][q2].median()[0], \\\n",
    "       df_out[['return']][q3].median()[0], df_out[['return']][q4].median()[0],df_out[['return']][q5].median()[0]]\n",
    "  \n",
    "plt.plot(Quintile,Median_Return)"
   ]
  },
  {
   "cell_type": "code",
   "execution_count": 205,
   "id": "e3b54bb1",
   "metadata": {},
   "outputs": [
    {
     "data": {
      "text/plain": [
       "[<matplotlib.lines.Line2D at 0x7f9a8b7b4790>]"
      ]
     },
     "execution_count": 205,
     "metadata": {},
     "output_type": "execute_result"
    },
    {
     "data": {
      "image/png": "[encoded data removed]",
      "text/plain": [
       "<Figure size 432x288 with 1 Axes>"
      ]
     },
     "metadata": {
      "needs_background": "light"
     },
     "output_type": "display_data"
    }
   ],
   "source": [
    "col = 'tfidf_h4'\n",
    "q = df_out.quantile([0.00, 0.2, 0.40, 0.6,0.8, 1.00])\n",
    "\n",
    "q1 = ((df_out[col]>=q[col][0.00]) & (df_out[col]<q[col][0.20]))\n",
    "q2 = ((df_out[col]>=q[col][0.20]) & (df_out[col]<q[col][0.40]))\n",
    "q3 = ((df_out[col]>=q[col][0.40]) & (df_out[col]<q[col][0.60]))\n",
    "q4 = ((df_out[col]>=q[col][0.60]) & (df_out[col]<q[col][0.80]))\n",
    "q5 = ((df_out[col]>=q[col][0.80]) & (df_out[col]<=q[col][1.00]))\n",
    "\n",
    "Quintile = ['low', '2', '3', '4','High']\n",
    "\n",
    "Median_Return = [df_out[['return']][q1].median()[0], df_out[['return']][q2].median()[0], \\\n",
    "       df_out[['return']][q3].median()[0], df_out[['return']][q4].median()[0],df_out[['return']][q5].median()[0]]\n",
    "  \n",
    "plt.plot(Quintile,Median_Return)"
   ]
  },
  {
   "cell_type": "code",
   "execution_count": 206,
   "id": "9cf9ec49",
   "metadata": {},
   "outputs": [
    {
     "data": {
      "text/plain": [
       "[<matplotlib.lines.Line2D at 0x7f9ceb880850>]"
      ]
     },
     "execution_count": 206,
     "metadata": {},
     "output_type": "execute_result"
    },
    {
     "data": {
      "image/png": "[encoded data removed]",
      "text/plain": [
       "<Figure size 432x288 with 1 Axes>"
      ]
     },
     "metadata": {
      "needs_background": "light"
     },
     "output_type": "display_data"
    }
   ],
   "source": [
    "col = 'tfidf_neg'\n",
    "q = df_out.quantile([0.00, 0.2, 0.40, 0.6,0.8, 1.00])\n",
    "\n",
    "q1 = ((df_out[col]>=q[col][0.00]) & (df_out[col]<q[col][0.20]))\n",
    "q2 = ((df_out[col]>=q[col][0.20]) & (df_out[col]<q[col][0.40]))\n",
    "q3 = ((df_out[col]>=q[col][0.40]) & (df_out[col]<q[col][0.60]))\n",
    "q4 = ((df_out[col]>=q[col][0.60]) & (df_out[col]<q[col][0.80]))\n",
    "q5 = ((df_out[col]>=q[col][0.80]) & (df_out[col]<=q[col][1.00]))\n",
    "\n",
    "Quintile = ['low', '2', '3', '4','High']\n",
    "\n",
    "Median_Return = [df_out[['return']][q1].median()[0], df_out[['return']][q2].median()[0], \\\n",
    "       df_out[['return']][q3].median()[0], df_out[['return']][q4].median()[0],df_out[['return']][q5].median()[0]]\n",
    "  \n",
    "plt.plot(Quintile,Median_Return)"
   ]
  },
  {
   "cell_type": "code",
   "execution_count": 221,
   "id": "03d17a6a",
   "metadata": {},
   "outputs": [],
   "source": [
    "df_out = df[['ticker','date','3_day_buy_and_hold_excess_return','3_day_buy_and_hold_excess_log_return','ratio_h4',\\\n",
    "            'ratio_fin','tfidf_h4','tfidf_neg']]\n"
   ]
  },
  {
   "cell_type": "code",
   "execution_count": 223,
   "id": "8648d19a",
   "metadata": {},
   "outputs": [],
   "source": [
    "df_out.to_csv('final_result.csv')"
   ]
  },
  {
   "cell_type": "code",
   "execution_count": null,
   "id": "aaf504d9",
   "metadata": {},
   "outputs": [],
   "source": []
  }
 ],
 "metadata": {
  "kernelspec": {
   "display_name": "Python 3",
   "language": "python",
   "name": "python3"
  },
  "language_info": {
   "codemirror_mode": {
    "name": "ipython",
    "version": 3
   },
   "file_extension": ".py",
   "mimetype": "text/x-python",
   "name": "python",
   "nbconvert_exporter": "python",
   "pygments_lexer": "ipython3",
   "version": "3.8.8"
  }
 },
 "nbformat": 4,
 "nbformat_minor": 5
}
